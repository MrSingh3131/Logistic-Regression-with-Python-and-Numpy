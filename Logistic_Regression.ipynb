{
  "nbformat": 4,
  "nbformat_minor": 0,
  "metadata": {
    "kernelspec": {
      "display_name": "Python 3",
      "language": "python",
      "name": "python3"
    },
    "language_info": {
      "codemirror_mode": {
        "name": "ipython",
        "version": 3
      },
      "file_extension": ".py",
      "mimetype": "text/x-python",
      "name": "python",
      "nbconvert_exporter": "python",
      "pygments_lexer": "ipython3",
      "version": "3.6.8"
    },
    "colab": {
      "name": "Logistic_Regression.ipynb",
      "provenance": []
    }
  },
  "cells": [
    {
      "cell_type": "markdown",
      "metadata": {
        "id": "S4JJ9vN2aL9N",
        "colab_type": "text"
      },
      "source": [
        "\n",
        "\n",
        "# Deep Learning Fundamentals - Logistic Regression"
      ]
    },
    {
      "cell_type": "markdown",
      "metadata": {
        "id": "eriXzxitk8TG",
        "colab_type": "text"
      },
      "source": [
        "**Objective** - Our mdoel will able to predict if given image is of handwritten image 0 or 1."
      ]
    },
    {
      "cell_type": "markdown",
      "metadata": {
        "id": "3UVYv9S-k7bB",
        "colab_type": "text"
      },
      "source": [
        "# Task 1: Introduction"
      ]
    },
    {
      "cell_type": "code",
      "metadata": {
        "id": "LwUQcxELaL9P",
        "colab_type": "code",
        "outputId": "26b468ca-a289-4d76-a089-fbd481375fb3",
        "colab": {
          "base_uri": "https://localhost:8080/",
          "height": 33
        }
      },
      "source": [
        "import random\n",
        "import numpy as np\n",
        "import warnings\n",
        "import helpers.plt, helpers.dataset\n",
        "from matplotlib import pyplot as plt\n",
        "%matplotlib inline\n",
        "warnings.filterwarnings('ignore')\n",
        "\n",
        "print('Libraries imported')"
      ],
      "execution_count": 0,
      "outputs": [
        {
          "output_type": "stream",
          "text": [
            "Libraries imported\n"
          ],
          "name": "stdout"
        }
      ]
    },
    {
      "cell_type": "markdown",
      "metadata": {
        "id": "UyHVHvVUaL9U",
        "colab_type": "text"
      },
      "source": [
        "# Task 2: Hyperparameters"
      ]
    },
    {
      "cell_type": "code",
      "metadata": {
        "tags": [
          "parameters"
        ],
        "id": "3a0KilT8aL9V",
        "colab_type": "code",
        "colab": {}
      },
      "source": [
        "lr = 0.3\n",
        "batch_size = 300  # 300 randomly selected examples from our dataset\n",
        "iterations = 40"
      ],
      "execution_count": 0,
      "outputs": []
    },
    {
      "cell_type": "markdown",
      "metadata": {
        "id": "z8OP0fozmkz2",
        "colab_type": "text"
      },
      "source": [
        " **Hyperparameter** is a parameter whose value is set before the learning process begins.\n",
        "\n",
        "1. lr - **Learning rate** is a hyperparameter that controls how much to change the model in response to the estimated error each time the model weights are updated.\n",
        "\n",
        "    Gradient descent will never converge if learning rate is very slow. \n",
        "\n",
        "2. **Batch_size** denotes the subset size of your training sample (e.g. 100 out of 1000) which is going to be used in order to train the network during its learning process."
      ]
    },
    {
      "cell_type": "markdown",
      "metadata": {
        "id": "YmmZw3qkoZrn",
        "colab_type": "text"
      },
      "source": [
        "**Each training duration comprises of 3 steps** - \n",
        "\n",
        "1. Forward Pass - To get predicted label values with the current set of learnable parameters. \n",
        "\n",
        "2. Backward Pass - To get gradients that we can use to update the learnable parameters. \n",
        "\n",
        "3. Updating the learnable parameters with the gardients obtained in the previous step. "
      ]
    },
    {
      "cell_type": "markdown",
      "metadata": {
        "id": "JbqxFpsuaL9Z",
        "colab_type": "text"
      },
      "source": [
        "# Task 3: Dataset"
      ]
    },
    {
      "cell_type": "code",
      "metadata": {
        "id": "w4UIsm-HaL9a",
        "colab_type": "code",
        "outputId": "59fd1a6e-860e-4823-ae2f-64fe26608dfe",
        "colab": {
          "base_uri": "https://localhost:8080/",
          "height": 82
        }
      },
      "source": [
        "# import helpers.dataset\n",
        "\n",
        "(X_train, Y_train), (X_test, Y_test) = helpers.dataset.get_data()"
      ],
      "execution_count": 0,
      "outputs": [
        {
          "output_type": "stream",
          "text": [
            "Loading data..\n",
            "Downloading data from https://storage.googleapis.com/tensorflow/tf-keras-datasets/mnist.npz\n",
            "11493376/11490434 [==============================] - 0s 0us/step\n",
            "Done.\n"
          ],
          "name": "stdout"
        }
      ]
    },
    {
      "cell_type": "code",
      "metadata": {
        "id": "mb7gWQlnaL9f",
        "colab_type": "code",
        "outputId": "74048e2e-aa55-48b9-c700-fc59204956cf",
        "colab": {
          "base_uri": "https://localhost:8080/",
          "height": 82
        }
      },
      "source": [
        "print('Shape of X_train:', X_train.shape)\n",
        "print('Shape of Y_train:', Y_train.shape)\n",
        "print('Shape of X_test:', X_test.shape)\n",
        "print('Shape of Y_test:', Y_test.shape)"
      ],
      "execution_count": 0,
      "outputs": [
        {
          "output_type": "stream",
          "text": [
            "Shape of X_train: (12665, 28, 28)\n",
            "Shape of Y_train: (12665,)\n",
            "Shape of X_test: (2115, 28, 28)\n",
            "Shape of Y_test: (2115,)\n"
          ],
          "name": "stdout"
        }
      ]
    },
    {
      "cell_type": "code",
      "metadata": {
        "id": "JD556N0NaL9j",
        "colab_type": "code",
        "outputId": "6330a611-df83-41ab-c451-2a819e217db7",
        "colab": {
          "base_uri": "https://localhost:8080/",
          "height": 262
        }
      },
      "source": [
        "# import helpers.plt \n",
        "\n",
        "# this dunction will show examples of images along with labels\n",
        "helpers.plt.show_example(X_train[100], Y_train[100])"
      ],
      "execution_count": 0,
      "outputs": [
        {
          "output_type": "display_data",
          "data": {
            "image/png": "[encoded data removed]",
            "text/plain": [
              "<Figure size 432x288 with 1 Axes>"
            ]
          },
          "metadata": {
            "tags": []
          }
        }
      ]
    },
    {
      "cell_type": "code",
      "metadata": {
        "id": "Plp8fTa6aL9n",
        "colab_type": "code",
        "outputId": "07751fe2-4efb-4feb-d132-599230938e37",
        "colab": {
          "base_uri": "https://localhost:8080/",
          "height": 262
        }
      },
      "source": [
        "helpers.plt.show_example(X_train[-2], Y_train[-2])"
      ],
      "execution_count": 0,
      "outputs": [
        {
          "output_type": "display_data",
          "data": {
            "image/png": "[encoded data removed]",
            "text/plain": [
              "<Figure size 432x288 with 1 Axes>"
            ]
          },
          "metadata": {
            "tags": []
          }
        }
      ]
    },
    {
      "cell_type": "markdown",
      "metadata": {
        "id": "r8sb9rNPaL9s",
        "colab_type": "text"
      },
      "source": [
        "# Task 4: A Mini Batch of Examples"
      ]
    },
    {
      "cell_type": "markdown",
      "metadata": {
        "id": "5Bv4khtouA_p",
        "colab_type": "text"
      },
      "source": [
        "For each training iteration we will create a mini batch with randomly selected examples. "
      ]
    },
    {
      "cell_type": "code",
      "metadata": {
        "id": "60zX3TuhaL9t",
        "colab_type": "code",
        "outputId": "7853457b-73bb-469f-e15f-f0e7b23cec65",
        "colab": {
          "base_uri": "https://localhost:8080/",
          "height": 523
        }
      },
      "source": [
        "# import helpers.plt, helpers.dataset\n",
        "\n",
        "# 1- no. of examples that you want to display\n",
        "X_batch, Y_batch = helpers.dataset.get_random_batch(X_train, Y_train, 2)\n",
        "print('X_train shape', X_batch.shape)\n",
        "helpers.plt.show_example(X_batch[0], Y_batch[0])\n",
        "helpers.plt.show_example(X_batch[1], Y_batch[1])"
      ],
      "execution_count": 0,
      "outputs": [
        {
          "output_type": "stream",
          "text": [
            "X_train shape (2, 784)\n"
          ],
          "name": "stdout"
        },
        {
          "output_type": "display_data",
          "data": {
            "image/png": "[encoded data removed]",
            "text/plain": [
              "<Figure size 432x288 with 1 Axes>"
            ]
          },
          "metadata": {
            "tags": []
          }
        },
        {
          "output_type": "display_data",
          "data": {
            "image/png": "[encoded data removed]",
            "text/plain": [
              "<Figure size 432x288 with 1 Axes>"
            ]
          },
          "metadata": {
            "tags": []
          }
        }
      ]
    },
    {
      "cell_type": "code",
      "metadata": {
        "id": "_JZMwSEQaL9w",
        "colab_type": "code",
        "outputId": "c061d133-8116-4fa8-8427-751f70a2446e",
        "colab": {
          "base_uri": "https://localhost:8080/",
          "height": 262
        }
      },
      "source": [
        "X_batch, Y_batch = helpers.dataset.get_random_batch(X_test, Y_test, 1)\n",
        "helpers.plt.show_example(X_batch[0], Y_batch[0])"
      ],
      "execution_count": 0,
      "outputs": [
        {
          "output_type": "display_data",
          "data": {
            "image/png": "[encoded data removed]",
            "text/plain": [
              "<Figure size 432x288 with 1 Axes>"
            ]
          },
          "metadata": {
            "tags": []
          }
        }
      ]
    },
    {
      "cell_type": "code",
      "metadata": {
        "id": "nmzqvsz9aL91",
        "colab_type": "code",
        "outputId": "5f233081-c752-404e-9b43-0cd6bbfdc443",
        "colab": {
          "base_uri": "https://localhost:8080/",
          "height": 240
        }
      },
      "source": [
        "X_batch, Y_batch = helpers.dataset.get_random_batch(X_train, Y_train, 10)\n",
        "helpers.plt.show_ten_examples(X_batch, Y_batch, Y_batch)"
      ],
      "execution_count": 0,
      "outputs": [
        {
          "output_type": "display_data",
          "data": {
            "image/png": "[encoded data removed]",
            "text/plain": [
              "<Figure size 576x288 with 10 Axes>"
            ]
          },
          "metadata": {
            "tags": []
          }
        }
      ]
    },
    {
      "cell_type": "markdown",
      "metadata": {
        "id": "ZeBmmP2iaL95",
        "colab_type": "text"
      },
      "source": [
        "# Task 5: Create Model"
      ]
    },
    {
      "cell_type": "markdown",
      "metadata": {
        "id": "mM5VdOvbaL96",
        "colab_type": "text"
      },
      "source": [
        "A logistic model is simply a multi variable linear equation which gives a binary output. The pixel values of our input images are going to be the input features - the independent variables that form the logistic regression equation. And the class label - either 0 or 1 in our case, is the output y."
      ]
    },
    {
      "cell_type": "markdown",
      "metadata": {
        "id": "6hSLJi91aL97",
        "colab_type": "text"
      },
      "source": [
        "\\begin{equation}\n",
        "z = b + w_1x_1 + w_2x_2 + ... + w_N * x_N\n",
        "\\end{equation}\n",
        "\n",
        "\\begin{equation}\n",
        "y = \\sigma(z)\n",
        "\\end{equation}\n",
        "\n",
        "To simplify, we can use vectorized represenation where X is the feature matrix and W is the weight matrix:\n",
        "\n",
        "\\begin{equation}\n",
        "y = \\sigma(W^T.X + b)\n",
        "\\end{equation}"
      ]
    },
    {
      "cell_type": "markdown",
      "metadata": {
        "id": "kPFJb7ADpN50",
        "colab_type": "text"
      },
      "source": [
        "**Task** - \n",
        "\n",
        "To find value of W and b that best fits the above equation."
      ]
    },
    {
      "cell_type": "code",
      "metadata": {
        "id": "C-hJlMRGaL97",
        "colab_type": "code",
        "outputId": "28b2742d-5731-48e2-9e7a-37c450b5735f",
        "colab": {
          "base_uri": "https://localhost:8080/",
          "height": 98
        }
      },
      "source": [
        "class LogisticModel:\n",
        "    def __init__(self, num_features):\n",
        "        self.W = np.reshape(np.random.randn((num_features)), (num_features, 1))   \n",
        "        self.b = np.zeros((1, 1))\n",
        "        self.num_features = num_features\n",
        "        self.losses = []\n",
        "        self.accuracy = []\n",
        "        \n",
        "    def summary(self):\n",
        "        print('=================================')\n",
        "        print('Number of features:', self.num_features)\n",
        "        # print('Value of weights:', self.W)\n",
        "        print('Shape of weights:', self.W.shape)\n",
        "        print('Shape of biases:', self.b.shape)\n",
        "        print('=================================')\n",
        "        \n",
        "model = LogisticModel(num_features=784)\n",
        "model.summary()"
      ],
      "execution_count": 0,
      "outputs": [
        {
          "output_type": "stream",
          "text": [
            "=================================\n",
            "Number of features: 784\n",
            "Shape of weights: (784, 1)\n",
            "Shape of biases: (1, 1)\n",
            "=================================\n"
          ],
          "name": "stdout"
        }
      ]
    },
    {
      "cell_type": "markdown",
      "metadata": {
        "id": "KVwOFSlVsaeW",
        "colab_type": "text"
      },
      "source": [
        "**Note** - \n",
        "\n",
        "1. np.random.rand - will give positive random values.\n",
        "\n",
        "2. np.random.randn - will give positive as well as negative random values."
      ]
    },
    {
      "cell_type": "code",
      "metadata": {
        "id": "7_o8P8XxsJrB",
        "colab_type": "code",
        "outputId": "41c4b928-ecda-4921-eda2-ebb210d8fbc3",
        "colab": {
          "base_uri": "https://localhost:8080/",
          "height": 66
        }
      },
      "source": [
        "\n",
        "a=np.random.randn((5))\n",
        "b=np.random.randn(7)\n",
        "print(a)\n",
        "print(b)"
      ],
      "execution_count": 0,
      "outputs": [
        {
          "output_type": "stream",
          "text": [
            "[ 0.08659067  0.79956544 -0.82942065  0.49605748  1.29906471]\n",
            "[-0.39797963 -1.0996949   0.03320545  1.97128979 -2.18688947 -0.46067633\n",
            " -1.22885983]\n"
          ],
          "name": "stdout"
        }
      ]
    },
    {
      "cell_type": "markdown",
      "metadata": {
        "id": "F2n1gusbaL-A",
        "colab_type": "text"
      },
      "source": [
        "# Task 5: Forward Pass"
      ]
    },
    {
      "cell_type": "markdown",
      "metadata": {
        "id": "xKuz-79baL-B",
        "colab_type": "text"
      },
      "source": [
        "For a single training example, the loss should be:\n",
        "\n",
        "\\begin{equation}\n",
        "L(y, \\hat{y}) = -(y * log(\\hat{y}) + (1 - y) * log(1 - \\hat{y}))\n",
        "\\end{equation}"
      ]
    },
    {
      "cell_type": "markdown",
      "metadata": {
        "id": "DZ5dlLPTuDyV",
        "colab_type": "text"
      },
      "source": [
        "**Note** - \n",
        "\n",
        "1. Loss will high if prediction is different from actual values. \n",
        "\n",
        "2. Loss will less if prediction is same from actual values. \n",
        "\n",
        "3. _forward_pass() -> private function"
      ]
    },
    {
      "cell_type": "code",
      "metadata": {
        "id": "mfata1yD06jG",
        "colab_type": "code",
        "outputId": "6fd855e2-71a9-42a8-aeaa-f1a3c6b79d8e",
        "colab": {
          "base_uri": "https://localhost:8080/",
          "height": 33
        }
      },
      "source": [
        "X_batch[0].size"
      ],
      "execution_count": 0,
      "outputs": [
        {
          "output_type": "execute_result",
          "data": {
            "text/plain": [
              "784"
            ]
          },
          "metadata": {
            "tags": []
          },
          "execution_count": 13
        }
      ]
    },
    {
      "cell_type": "markdown",
      "metadata": {
        "id": "X6Tsus9a2CCk",
        "colab_type": "text"
      },
      "source": [
        "Appplying y=σ(WT.X+b) -> \n",
        "\n",
        "1. Z = np.dot(X, self.W) + self.b --> WT.X+b\n",
        "\n",
        "2. A = 1./(1.+np.exp(-Z)) --> applying function on linear function"
      ]
    },
    {
      "cell_type": "code",
      "metadata": {
        "id": "eH_ItUi9aL-B",
        "colab_type": "code",
        "colab": {}
      },
      "source": [
        "class LogisticModel(LogisticModel):\n",
        "    def _forward_pass(self, X, Y=None):\n",
        "        batch_size = X.shape[0]\n",
        "        # linear output\n",
        "        Z = np.dot(X, self.W) + self.b\n",
        "        # activation output\n",
        "        A = 1./(1.+np.exp(-Z))     # y prediction\n",
        "        loss = float(1e6)   # meaningless if y is not None\n",
        "        if Y is not None:\n",
        "            loss = -1 * np.sum(np.dot(np.transpose(Y), np.log(A))+\n",
        "                                      np.matmul(np.transpose(1-Y), np.log(1-A)))\n",
        "            \n",
        "            loss /= batch_size\n",
        "        return A, loss"
      ],
      "execution_count": 0,
      "outputs": []
    },
    {
      "cell_type": "markdown",
      "metadata": {
        "id": "LO1ZTMLY6uz6",
        "colab_type": "text"
      },
      "source": [
        "**Note** - Less the value of loss, more our model learn.\n"
      ]
    },
    {
      "cell_type": "markdown",
      "metadata": {
        "id": "mdMbY2uEaL-E",
        "colab_type": "text"
      },
      "source": [
        "# Task 6: Backward Pass"
      ]
    },
    {
      "cell_type": "markdown",
      "metadata": {
        "id": "C5q4rm-I7Imn",
        "colab_type": "text"
      },
      "source": [
        "**Onjective** - To calculate gradient for the loss wrt to parameters W and b. These vales will be used later to update parameter value. "
      ]
    },
    {
      "cell_type": "code",
      "metadata": {
        "id": "MVb1h7FZaL-F",
        "colab_type": "code",
        "colab": {}
      },
      "source": [
        "class LogisticModel(LogisticModel):\n",
        "    def _backward_pass(self, A, X, Y):\n",
        "        batch_size = X.shape[0]\n",
        "        dZ = A-Y\n",
        "        dW = np.dot(np.transpose(X), dZ) / batch_size\n",
        "        db = np.sum(dZ) / batch_size\n",
        "        return dW, db"
      ],
      "execution_count": 0,
      "outputs": []
    },
    {
      "cell_type": "markdown",
      "metadata": {
        "id": "LBhWfjDeaL-J",
        "colab_type": "text"
      },
      "source": [
        "# Task 7: Update Parameters"
      ]
    },
    {
      "cell_type": "code",
      "metadata": {
        "id": "Ly1byJWuaL-J",
        "colab_type": "code",
        "colab": {}
      },
      "source": [
        "class LogisticModel(LogisticModel):\n",
        "    def _update_params(self, dW, db, lr):\n",
        "        self.W -= lr*dW\n",
        "        self.b -= lr*db"
      ],
      "execution_count": 0,
      "outputs": []
    },
    {
      "cell_type": "markdown",
      "metadata": {
        "id": "iW5eS0vxaL-N",
        "colab_type": "text"
      },
      "source": [
        "# Task 8: Check Model Performance"
      ]
    },
    {
      "cell_type": "code",
      "metadata": {
        "id": "EsUww5B8_KJ3",
        "colab_type": "code",
        "outputId": "ee2eb7bb-8b65-40bd-f182-bbab62efa0e3",
        "colab": {
          "base_uri": "https://localhost:8080/",
          "height": 33
        }
      },
      "source": [
        "a=0.6\n",
        "b=a>0.8\n",
        "print(b)"
      ],
      "execution_count": 0,
      "outputs": [
        {
          "output_type": "stream",
          "text": [
            "False\n"
          ],
          "name": "stdout"
        }
      ]
    },
    {
      "cell_type": "markdown",
      "metadata": {
        "id": "gTz-yP6w_sdm",
        "colab_type": "text"
      },
      "source": [
        "**numpy.squeeze()** function is used when we want to remove single-dimensional entries from the shape of an array."
      ]
    },
    {
      "cell_type": "code",
      "metadata": {
        "id": "9L1K4HCR_r31",
        "colab_type": "code",
        "outputId": "9c75e794-4c93-4158-da53-487cc940d59b",
        "colab": {
          "base_uri": "https://localhost:8080/",
          "height": 180
        }
      },
      "source": [
        "import numpy as geek \n",
        "  \n",
        "a = geek.array([[[2, 2, 2], [2, 2, 2]]]) \n",
        "print(\"Before squeeze:\")\n",
        "print (\"array:\", a)  \n",
        "print(\"Shape:\", a.shape)   \n",
        "  \n",
        "a_squeeze = geek.squeeze(a)  \n",
        "print(\"\\n\\nAfter squeeze:\")\n",
        "print (\"array : \", a_squeeze) \n",
        "print(\"Shape: \", a_squeeze.shape) "
      ],
      "execution_count": 0,
      "outputs": [
        {
          "output_type": "stream",
          "text": [
            "Before squeeze:\n",
            "array: [[[2 2 2]\n",
            "  [2 2 2]]]\n",
            "Shape: (1, 2, 3)\n",
            "\n",
            "\n",
            "After squeeze:\n",
            "array :  [[2 2 2]\n",
            " [2 2 2]]\n",
            "Shape:  (2, 3)\n"
          ],
          "name": "stdout"
        }
      ]
    },
    {
      "cell_type": "code",
      "metadata": {
        "id": "aJiO9q5SaL-O",
        "colab_type": "code",
        "colab": {}
      },
      "source": [
        "class LogisticModel(LogisticModel):\n",
        "    def predict(self, X, Y=None):\n",
        "        A, loss = self._forward_pass(X, Y)\n",
        "        Y_hat = A > 0.5\n",
        "        return np.squeeze(Y_hat), loss\n",
        "    \n",
        "    def evaluate(self, X, Y):\n",
        "        Y_hat, loss = self.predict(X, Y)\n",
        "        accuracy = np.sum(Y_hat == np.squeeze(Y)) / X.shape[0]\n",
        "        return accuracy, loss"
      ],
      "execution_count": 0,
      "outputs": []
    },
    {
      "cell_type": "code",
      "metadata": {
        "id": "_f6Fjy27aL-R",
        "colab_type": "code",
        "outputId": "afa6081e-ca36-4529-cc5e-7967026d188d",
        "colab": {
          "base_uri": "https://localhost:8080/",
          "height": 115
        }
      },
      "source": [
        "model = LogisticModel(784)\n",
        "model.summary()\n",
        "\n",
        "X, Y = helpers.dataset.get_random_batch(X_test, Y_test, batch_size)\n",
        "acc, loss = model.evaluate(X, Y)\n",
        "print(\"Untrained model accuracy: {}, loss:{}\".format(acc, loss))"
      ],
      "execution_count": 0,
      "outputs": [
        {
          "output_type": "stream",
          "text": [
            "=================================\n",
            "Number of features: 784\n",
            "Shape of weights: (784, 1)\n",
            "Shape of biases: (1, 1)\n",
            "=================================\n",
            "Untrained model accuracy: 0.52, loss:1.828607038902457\n"
          ],
          "name": "stdout"
        }
      ]
    },
    {
      "cell_type": "code",
      "metadata": {
        "id": "n7B0lMC1aL-V",
        "colab_type": "code",
        "outputId": "87fcbea5-f053-4627-a8dd-e8a35f3c6de4",
        "colab": {
          "base_uri": "https://localhost:8080/",
          "height": 240
        }
      },
      "source": [
        "preds, _ = model.predict(X)\n",
        "helpers.plt.show_ten_examples(X, Y, preds)"
      ],
      "execution_count": 0,
      "outputs": [
        {
          "output_type": "display_data",
          "data": {
            "image/png": "[encoded data removed]",
            "text/plain": [
              "<Figure size 576x288 with 10 Axes>"
            ]
          },
          "metadata": {
            "tags": []
          }
        }
      ]
    },
    {
      "cell_type": "markdown",
      "metadata": {
        "id": "OvpbxwhJaL-Y",
        "colab_type": "text"
      },
      "source": [
        "# Task 9: Training Loop"
      ]
    },
    {
      "cell_type": "code",
      "metadata": {
        "id": "D00v-9QxaL-Z",
        "colab_type": "code",
        "colab": {}
      },
      "source": [
        "class LogisticModel(LogisticModel):\n",
        "  # get_batch = get random batch function from helpers.dataset\n",
        "    def train(self, batch_size, get_batch, lr, iterations, X_train, Y_train, X_test, Y_test):\n",
        "        print(\"Training...\")\n",
        "        self.accuracies = []\n",
        "        self.losses = []\n",
        "\n",
        "        for i in range(iterations):\n",
        "            X, Y = get_batch(X_train, Y_train, batch_size)\n",
        "            A, loss = self._forward_pass(X, Y)\n",
        "            dW, db = self._backward_pass(A, X, Y)\n",
        "            self._update_params(dW, db, lr)\n",
        "\n",
        "            X, Y = get_batch(X_test, Y_test, batch_size)\n",
        "            val_acc, val_loss = self.evaluate(X, Y)\n",
        "            self.accuracies.append(val_acc)\n",
        "            self.losses.append(val_loss)\n",
        "\n",
        "            print(\"Iter: {}, Val Acc: {:.3f}, Val loss: {:.3f}\".format(i, val_acc, val_loss))\n",
        "        print(\"Training is finished\")\n"
      ],
      "execution_count": 0,
      "outputs": []
    },
    {
      "cell_type": "markdown",
      "metadata": {
        "id": "xh_xF93KaL-c",
        "colab_type": "text"
      },
      "source": [
        "# Task 10: Training the Model"
      ]
    },
    {
      "cell_type": "code",
      "metadata": {
        "id": "V1_tT__iaL-d",
        "colab_type": "code",
        "outputId": "1b2cbbb3-8f45-4b1e-af09-41c0299401e0",
        "colab": {
          "base_uri": "https://localhost:8080/",
          "height": 732
        }
      },
      "source": [
        "model = LogisticModel(784)\n",
        "\n",
        "X, Y = helpers.dataset.get_random_batch(X_test, Y_test, batch_size)\n",
        "print(\"Before training performance:\", model.evaluate(X, Y))\n",
        "\n",
        "model.train(\n",
        "    batch_size, \n",
        "    helpers.dataset.get_random_batch,\n",
        "    lr,\n",
        "    iterations,\n",
        "    X_train, Y_train,\n",
        "    X_test, Y_test\n",
        ")\n",
        "\n",
        "print(\"After training performance:\", model.evaluate(X, Y))"
      ],
      "execution_count": 0,
      "outputs": [
        {
          "output_type": "stream",
          "text": [
            "Before training performance: (0.44, 3.1800141691353314)\n",
            "Training...\n",
            "Iter: 0, Val Acc: 0.527, Val loss: 1.652\n",
            "Iter: 1, Val Acc: 0.690, Val loss: 0.974\n",
            "Iter: 2, Val Acc: 0.817, Val loss: 0.505\n",
            "Iter: 3, Val Acc: 0.833, Val loss: 0.436\n",
            "Iter: 4, Val Acc: 0.897, Val loss: 0.315\n",
            "Iter: 5, Val Acc: 0.927, Val loss: 0.212\n",
            "Iter: 6, Val Acc: 0.940, Val loss: 0.249\n",
            "Iter: 7, Val Acc: 0.943, Val loss: 0.157\n",
            "Iter: 8, Val Acc: 0.953, Val loss: 0.096\n",
            "Iter: 9, Val Acc: 0.940, Val loss: 0.247\n",
            "Iter: 10, Val Acc: 0.963, Val loss: 0.118\n",
            "Iter: 11, Val Acc: 0.953, Val loss: 0.176\n",
            "Iter: 12, Val Acc: 0.940, Val loss: 0.163\n",
            "Iter: 13, Val Acc: 0.983, Val loss: 0.068\n",
            "Iter: 14, Val Acc: 0.947, Val loss: 0.151\n",
            "Iter: 15, Val Acc: 0.933, Val loss: 0.161\n",
            "Iter: 16, Val Acc: 0.970, Val loss: 0.092\n",
            "Iter: 17, Val Acc: 0.987, Val loss: 0.049\n",
            "Iter: 18, Val Acc: 0.973, Val loss: 0.085\n",
            "Iter: 19, Val Acc: 0.973, Val loss: 0.094\n",
            "Iter: 20, Val Acc: 0.983, Val loss: 0.059\n",
            "Iter: 21, Val Acc: 0.973, Val loss: 0.075\n",
            "Iter: 22, Val Acc: 0.970, Val loss: 0.099\n",
            "Iter: 23, Val Acc: 0.963, Val loss: 0.101\n",
            "Iter: 24, Val Acc: 0.983, Val loss: 0.058\n",
            "Iter: 25, Val Acc: 0.983, Val loss: 0.071\n",
            "Iter: 26, Val Acc: 0.990, Val loss: 0.045\n",
            "Iter: 27, Val Acc: 0.973, Val loss: 0.067\n",
            "Iter: 28, Val Acc: 0.977, Val loss: 0.050\n",
            "Iter: 29, Val Acc: 0.970, Val loss: 0.088\n",
            "Iter: 30, Val Acc: 0.977, Val loss: 0.068\n",
            "Iter: 31, Val Acc: 0.977, Val loss: 0.083\n",
            "Iter: 32, Val Acc: 0.990, Val loss: 0.037\n",
            "Iter: 33, Val Acc: 0.987, Val loss: 0.047\n",
            "Iter: 34, Val Acc: 0.977, Val loss: 0.079\n",
            "Iter: 35, Val Acc: 0.990, Val loss: 0.029\n",
            "Iter: 36, Val Acc: 0.967, Val loss: 0.075\n",
            "Iter: 37, Val Acc: 0.990, Val loss: 0.028\n",
            "Iter: 38, Val Acc: 0.990, Val loss: 0.035\n",
            "Iter: 39, Val Acc: 0.990, Val loss: 0.031\n",
            "Training is finished\n",
            "After training performance: (0.9866666666666667, 0.04145391167187168)\n"
          ],
          "name": "stdout"
        }
      ]
    },
    {
      "cell_type": "markdown",
      "metadata": {
        "id": "wdo7TlovaL-i",
        "colab_type": "text"
      },
      "source": [
        "# Task 11: Display the Results"
      ]
    },
    {
      "cell_type": "code",
      "metadata": {
        "id": "SITneZQJaL-i",
        "colab_type": "code",
        "outputId": "2f76291a-f809-47da-f572-45f58e6f5629",
        "colab": {
          "base_uri": "https://localhost:8080/",
          "height": 295
        }
      },
      "source": [
        "helpers.plt.plot_metrics(model)"
      ],
      "execution_count": 0,
      "outputs": [
        {
          "output_type": "display_data",
          "data": {
            "image/png": "[encoded data removed]",
            "text/plain": [
              "<Figure size 864x288 with 2 Axes>"
            ]
          },
          "metadata": {
            "tags": [],
            "needs_background": "light"
          }
        }
      ]
    },
    {
      "cell_type": "code",
      "metadata": {
        "id": "T8OujoXYaL-l",
        "colab_type": "code",
        "outputId": "e7040f22-b2d4-4e58-d59a-67ef6f85e231",
        "colab": {
          "base_uri": "https://localhost:8080/",
          "height": 240
        }
      },
      "source": [
        "predictions, loss = model.predict(X, Y)\n",
        "helpers.plt.show_ten_examples(X, Y, predictions)"
      ],
      "execution_count": 0,
      "outputs": [
        {
          "output_type": "display_data",
          "data": {
            "image/png": "[encoded data removed]",
            "text/plain": [
              "<Figure size 576x288 with 10 Axes>"
            ]
          },
          "metadata": {
            "tags": []
          }
        }
      ]
    }
  ]
}