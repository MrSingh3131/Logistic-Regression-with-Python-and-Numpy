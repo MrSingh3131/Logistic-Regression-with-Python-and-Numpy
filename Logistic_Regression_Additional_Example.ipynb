{
  "nbformat": 4,
  "nbformat_minor": 0,
  "metadata": {
    "kernelspec": {
      "display_name": "Python 3",
      "language": "python",
      "name": "python3"
    },
    "language_info": {
      "codemirror_mode": {
        "name": "ipython",
        "version": 3
      },
      "file_extension": ".py",
      "mimetype": "text/x-python",
      "name": "python",
      "nbconvert_exporter": "python",
      "pygments_lexer": "ipython3",
      "version": "3.7.0"
    },
    "colab": {
      "name": "Logistic Regression - Additional Example.ipynb",
      "provenance": []
    }
  },
  "cells": [
    {
      "cell_type": "markdown",
      "metadata": {
        "id": "DkTZwqS7WHsY",
        "colab_type": "text"
      },
      "source": [
        "\n",
        "\n",
        "# Deep Learning Fundamentals - Logistic Regression"
      ]
    },
    {
      "cell_type": "markdown",
      "metadata": {
        "id": "rzq4j-i0WHsa",
        "colab_type": "text"
      },
      "source": [
        "Download the data from UCI ML Repository. [Click here](https://archive.ics.uci.edu/ml/datasets/banknote+authentication) for bank note authentication dataset description."
      ]
    },
    {
      "cell_type": "code",
      "metadata": {
        "id": "s_PERdpxWHsc",
        "colab_type": "code",
        "colab": {
          "base_uri": "https://localhost:8080/",
          "height": 34
        },
        "outputId": "a41e3b2c-c121-470e-e7b0-6c3ad20edeff"
      },
      "source": [
        "import urllib.request\n",
        "\n",
        "urllib.request.urlretrieve('https://archive.ics.uci.edu/ml/machine-learning-databases/00267/data_banknote_authentication.txt',\n",
        "                          'banknote.csv')"
      ],
      "execution_count": 1,
      "outputs": [
        {
          "output_type": "execute_result",
          "data": {
            "text/plain": [
              "('banknote.csv', <http.client.HTTPMessage at 0x7fb461bd84e0>)"
            ]
          },
          "metadata": {
            "tags": []
          },
          "execution_count": 1
        }
      ]
    },
    {
      "cell_type": "markdown",
      "metadata": {
        "id": "s5Y4aZIxWHsj",
        "colab_type": "text"
      },
      "source": [
        "Import libraries"
      ]
    },
    {
      "cell_type": "code",
      "metadata": {
        "id": "aOfNdcucWHsl",
        "colab_type": "code",
        "colab": {}
      },
      "source": [
        "import numpy as np\n",
        "import pandas as pd\n",
        "import helpers.plt\n",
        "\n",
        "from logistic_regression import LogisticModel"
      ],
      "execution_count": 0,
      "outputs": []
    },
    {
      "cell_type": "markdown",
      "metadata": {
        "id": "hJsLUdYXWHsu",
        "colab_type": "text"
      },
      "source": [
        "Import the downloaded data"
      ]
    },
    {
      "cell_type": "code",
      "metadata": {
        "id": "NTBon8IUWHsv",
        "colab_type": "code",
        "colab": {
          "base_uri": "https://localhost:8080/",
          "height": 204
        },
        "outputId": "683305cd-8757-42b8-a409-f0c6d8a97fbf"
      },
      "source": [
        "df = pd.read_csv('banknote.csv', names=['variance', 'skewness', 'curtosis', 'entropy', 'class'])\n",
        "df.head()"
      ],
      "execution_count": 3,
      "outputs": [
        {
          "output_type": "execute_result",
          "data": {
            "text/html": [
              "<div>\n",
              "<style scoped>\n",
              "    .dataframe tbody tr th:only-of-type {\n",
              "        vertical-align: middle;\n",
              "    }\n",
              "\n",
              "    .dataframe tbody tr th {\n",
              "        vertical-align: top;\n",
              "    }\n",
              "\n",
              "    .dataframe thead th {\n",
              "        text-align: right;\n",
              "    }\n",
              "</style>\n",
              "<table border=\"1\" class=\"dataframe\">\n",
              "  <thead>\n",
              "    <tr style=\"text-align: right;\">\n",
              "      <th></th>\n",
              "      <th>variance</th>\n",
              "      <th>skewness</th>\n",
              "      <th>curtosis</th>\n",
              "      <th>entropy</th>\n",
              "      <th>class</th>\n",
              "    </tr>\n",
              "  </thead>\n",
              "  <tbody>\n",
              "    <tr>\n",
              "      <th>0</th>\n",
              "      <td>3.62160</td>\n",
              "      <td>8.6661</td>\n",
              "      <td>-2.8073</td>\n",
              "      <td>-0.44699</td>\n",
              "      <td>0</td>\n",
              "    </tr>\n",
              "    <tr>\n",
              "      <th>1</th>\n",
              "      <td>4.54590</td>\n",
              "      <td>8.1674</td>\n",
              "      <td>-2.4586</td>\n",
              "      <td>-1.46210</td>\n",
              "      <td>0</td>\n",
              "    </tr>\n",
              "    <tr>\n",
              "      <th>2</th>\n",
              "      <td>3.86600</td>\n",
              "      <td>-2.6383</td>\n",
              "      <td>1.9242</td>\n",
              "      <td>0.10645</td>\n",
              "      <td>0</td>\n",
              "    </tr>\n",
              "    <tr>\n",
              "      <th>3</th>\n",
              "      <td>3.45660</td>\n",
              "      <td>9.5228</td>\n",
              "      <td>-4.0112</td>\n",
              "      <td>-3.59440</td>\n",
              "      <td>0</td>\n",
              "    </tr>\n",
              "    <tr>\n",
              "      <th>4</th>\n",
              "      <td>0.32924</td>\n",
              "      <td>-4.4552</td>\n",
              "      <td>4.5718</td>\n",
              "      <td>-0.98880</td>\n",
              "      <td>0</td>\n",
              "    </tr>\n",
              "  </tbody>\n",
              "</table>\n",
              "</div>"
            ],
            "text/plain": [
              "   variance  skewness  curtosis  entropy  class\n",
              "0   3.62160    8.6661   -2.8073 -0.44699      0\n",
              "1   4.54590    8.1674   -2.4586 -1.46210      0\n",
              "2   3.86600   -2.6383    1.9242  0.10645      0\n",
              "3   3.45660    9.5228   -4.0112 -3.59440      0\n",
              "4   0.32924   -4.4552    4.5718 -0.98880      0"
            ]
          },
          "metadata": {
            "tags": []
          },
          "execution_count": 3
        }
      ]
    },
    {
      "cell_type": "markdown",
      "metadata": {
        "id": "504UBdevWHsz",
        "colab_type": "text"
      },
      "source": [
        "Extract features and labels as numpy arrays"
      ]
    },
    {
      "cell_type": "code",
      "metadata": {
        "id": "kf3RuUFcWHs0",
        "colab_type": "code",
        "colab": {}
      },
      "source": [
        "X = df.iloc[:, :-1].values\n",
        "Y = df.iloc[:, -1].values"
      ],
      "execution_count": 0,
      "outputs": []
    },
    {
      "cell_type": "markdown",
      "metadata": {
        "id": "7dNr6pazWHs4",
        "colab_type": "text"
      },
      "source": [
        "Shuffle and normalize data"
      ]
    },
    {
      "cell_type": "code",
      "metadata": {
        "id": "YhdxoVAKWHs5",
        "colab_type": "code",
        "colab": {
          "base_uri": "https://localhost:8080/",
          "height": 34
        },
        "outputId": "c0c796ec-c229-410d-ee24-c0f5511e4cc2"
      },
      "source": [
        "total_examples = X.shape[0]\n",
        "print('Found', total_examples, 'total examples.')\n",
        "\n",
        "# Shuffle dataset\n",
        "indices = np.random.randint(0, total_examples, total_examples)\n",
        "X = X[indices]\n",
        "Y = Y[indices]\n",
        "\n",
        "# Normalize data\n",
        "X = (X - np.mean(X, axis=0))/np.std(X, axis=0)"
      ],
      "execution_count": 5,
      "outputs": [
        {
          "output_type": "stream",
          "text": [
            "Found 1372 total examples.\n"
          ],
          "name": "stdout"
        }
      ]
    },
    {
      "cell_type": "markdown",
      "metadata": {
        "id": "MMPNL6XnWHs-",
        "colab_type": "text"
      },
      "source": [
        "Split dataset into training and test sets"
      ]
    },
    {
      "cell_type": "code",
      "metadata": {
        "id": "xq6Js3EIWHs_",
        "colab_type": "code",
        "colab": {}
      },
      "source": [
        "X_train = X[:1000]\n",
        "Y_train = Y[:1000]\n",
        "X_test = X[1000:]\n",
        "Y_test = Y[1000:]"
      ],
      "execution_count": 0,
      "outputs": []
    },
    {
      "cell_type": "markdown",
      "metadata": {
        "id": "Nxfo2KNxWHtD",
        "colab_type": "text"
      },
      "source": [
        "Create a function to generate random mini batch. It should confirm to how the train function in the logistic model works. Therefore, it should accept `(X, Y, batch_size)` in that order and return `(X_batch, Y_batch)`."
      ]
    },
    {
      "cell_type": "code",
      "metadata": {
        "id": "bN6_ImKPWHtF",
        "colab_type": "code",
        "colab": {}
      },
      "source": [
        "def generate_batch(X, Y, batch_size):\n",
        "    num_total = X.shape[0]\n",
        "    X_batch = np.zeros((batch_size, 4))\n",
        "    Y_batch = np.zeros((batch_size, 1))\n",
        "    indices = np.random.randint(0, num_total, batch_size)\n",
        "    \n",
        "    for i, index in enumerate(indices):\n",
        "        X_batch[i] = X[index]\n",
        "        Y_batch[i] = Y[index]\n",
        "    \n",
        "    return X_batch, Y_batch"
      ],
      "execution_count": 0,
      "outputs": []
    },
    {
      "cell_type": "markdown",
      "metadata": {
        "id": "pKLHLZh3WHtJ",
        "colab_type": "text"
      },
      "source": [
        "Create a LogisticModel and evaluate the untrained model."
      ]
    },
    {
      "cell_type": "code",
      "metadata": {
        "id": "-ikuCeLCWHtK",
        "colab_type": "code",
        "colab": {
          "base_uri": "https://localhost:8080/",
          "height": 170
        },
        "outputId": "29a7bbfb-8205-4833-d022-574e6cfe31ae"
      },
      "source": [
        "model = LogisticModel(num_features=4)\n",
        "model.summary()\n",
        "\n",
        "print('Initial values for W and b:')\n",
        "print('W =', list(np.squeeze(model.W)))\n",
        "print('b =', np.squeeze(model.b))\n",
        "\n",
        "X, Y = generate_batch(X_test, Y_test, 100)\n",
        "acc, loss = model.evaluate(X, Y)\n",
        "print('Untrained model accuracy:', 100*acc)"
      ],
      "execution_count": 8,
      "outputs": [
        {
          "output_type": "stream",
          "text": [
            "=================================\n",
            "Number of features: 4\n",
            "Shape of weights: (4, 1)\n",
            "Shape of biases: (1, 1)\n",
            "=================================\n",
            "Initial values for W and b:\n",
            "W = [-1.1759673282185605, 0.2546291160954224, 0.08435321932122591, 0.21975563216793176]\n",
            "b = 0.0\n",
            "Untrained model accuracy: 83.0\n"
          ],
          "name": "stdout"
        }
      ]
    },
    {
      "cell_type": "markdown",
      "metadata": {
        "id": "4Wbp4KqyWHtN",
        "colab_type": "text"
      },
      "source": [
        "Train the model and evaluate accuracy again."
      ]
    },
    {
      "cell_type": "code",
      "metadata": {
        "id": "mQj1KxgeWHtO",
        "colab_type": "code",
        "colab": {
          "base_uri": "https://localhost:8080/",
          "height": 238
        },
        "outputId": "1dafa5c6-7e07-4850-f1ea-1a72203ab206"
      },
      "source": [
        "model.train(\n",
        "    batch_size=100,\n",
        "    get_batch=generate_batch,\n",
        "    lr=10.0,\n",
        "    iterations=10,\n",
        "    X_train=X_train, Y_train=Y_train,\n",
        "    X_test=X_test, Y_test=Y_test\n",
        ")\n",
        "\n",
        "X, Y = generate_batch(X_test, Y_test, 100)\n",
        "acc, loss = model.evaluate(X, Y)\n",
        "print('Trained model accuracy:', 100*acc)"
      ],
      "execution_count": 9,
      "outputs": [
        {
          "output_type": "stream",
          "text": [
            "Training..\n",
            "Iter: 0, Val Acc: 0.910, Val Loss: 0.224\n",
            "Iter: 1, Val Acc: 0.980, Val Loss: 0.149\n",
            "Iter: 2, Val Acc: 0.910, Val Loss: 0.159\n",
            "Iter: 3, Val Acc: 0.960, Val Loss: 0.115\n",
            "Iter: 4, Val Acc: 0.970, Val Loss: 0.102\n",
            "Iter: 5, Val Acc: 0.990, Val Loss: 0.065\n",
            "Iter: 6, Val Acc: 0.990, Val Loss: 0.062\n",
            "Iter: 7, Val Acc: 0.990, Val Loss: 0.071\n",
            "Iter: 8, Val Acc: 0.940, Val Loss: 0.099\n",
            "Iter: 9, Val Acc: 0.990, Val Loss: 0.064\n",
            "Training finished.\n",
            "Trained model accuracy: 98.0\n"
          ],
          "name": "stdout"
        }
      ]
    },
    {
      "cell_type": "markdown",
      "metadata": {
        "id": "e33et0gwWHtR",
        "colab_type": "text"
      },
      "source": [
        "Plot the validation accuracy and loss during training."
      ]
    },
    {
      "cell_type": "code",
      "metadata": {
        "id": "MwReGZrmWHtS",
        "colab_type": "code",
        "colab": {
          "base_uri": "https://localhost:8080/",
          "height": 295
        },
        "outputId": "ca32d2fe-0a21-4cee-fb60-d178dd6b3a8f"
      },
      "source": [
        "helpers.plt.plot_metrics(model)"
      ],
      "execution_count": 10,
      "outputs": [
        {
          "output_type": "display_data",
          "data": {
            "image/png": "[encoded data removed]",
            "text/plain": [
              "<Figure size 864x288 with 2 Axes>"
            ]
          },
          "metadata": {
            "tags": [],
            "needs_background": "light"
          }
        }
      ]
    },
    {
      "cell_type": "code",
      "metadata": {
        "id": "sEGKjOZSWHtW",
        "colab_type": "code",
        "colab": {
          "base_uri": "https://localhost:8080/",
          "height": 68
        },
        "outputId": "2cac3ee9-2cb2-4f47-f296-70940acb3928"
      },
      "source": [
        "print('Learned values for W and b:')\n",
        "print('W =', list(np.squeeze(model.W)))\n",
        "print('b =', np.squeeze(model.b))"
      ],
      "execution_count": 11,
      "outputs": [
        {
          "output_type": "stream",
          "text": [
            "Learned values for W and b:\n",
            "W = [-3.416600164656916, -3.3705326907799886, -3.048728288625524, 0.05465216442737575]\n",
            "b = -0.7377137526645058\n"
          ],
          "name": "stdout"
        }
      ]
    }
  ]
}